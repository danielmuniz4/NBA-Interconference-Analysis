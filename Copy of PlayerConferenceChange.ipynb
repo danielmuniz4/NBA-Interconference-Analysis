{
 "cells": [
  {
   "cell_type": "code",
   "execution_count": 1,
   "metadata": {},
   "outputs": [],
   "source": [
    "import numpy as np\n",
    "import pandas as pd"
   ]
  },
  {
   "cell_type": "markdown",
   "metadata": {},
   "source": [
    "dfl = pd.read_csv(\"C:\\\\Users\\\\goravg\\\\Downloads\\\\03-04_Player_Conferences.csv\")\n",
    "dfl = dfl.sort_values(by=['G'],ascending=False)\n",
    "print (dfl.head())\n",
    "grouping = dfl.groupby('Player')\n",
    "for values in grouping:\n",
    "   print (values)\n"
   ]
  },
  {
   "cell_type": "code",
   "execution_count": 29,
   "metadata": {},
   "outputs": [],
   "source": [
    "def onesession (file_name):\n",
    " a = 'C:\\\\\\\\Users\\\\\\\\goravg\\\\\\\\Downloads\\\\\\\\Player Ranks with Conferences\\\\\\\\'\n",
    " b = file_name\n",
    " inputfile = a + b\n",
    " df = pd.read_csv(inputfile)\n",
    " df = df.drop(df[df['Tm'] == 'TOT'].index)\n",
    " df = df.sort_values(by=['Player','G'], ascending=False)\n",
    " df = df.loc[:,['Player','G','Conference']]\n",
    " intermediate = []\n",
    " finallist = []\n",
    " location = 0\n",
    " for num,x in enumerate(df['Player']):\n",
    "     value = num + 1 \n",
    "     try:\n",
    "         intermediate.index(x)\n",
    "        \n",
    "     except ValueError:\n",
    "         intermediate.insert(location,x)\n",
    "         finallist.insert(location,[x,df['G'].iloc[num],df['Conference'].iloc[num]])\n",
    "         location += 1\n",
    "     else:    \n",
    "         continue \n",
    "     \n",
    " df = pd.DataFrame(finallist,columns = ['Player','G','Conference'])  \n",
    " \n",
    "\n",
    " West = set(df[df['Conference'] == 'West']['Player'])\n",
    " East = set(df[df['Conference'] == 'East']['Player'])\n",
    " return (West, East)\n",
    "\n",
    "\n",
    "def dumplist(file1,file2):\n",
    " a = str(file1) + '_Player_Conferences.csv'\n",
    " b = str(file2) + '_Player_Conferences.csv'\n",
    " Westp, Eastp = onesession(a)\n",
    " Westc, Eastc = onesession(b)\n",
    " \n",
    " Move_West_to_East = Westp.intersection(Eastc)\n",
    " Move_East_to_West = Eastp.intersection(Westc)  \n",
    "                           \n",
    " listing = []\n",
    " for values in Move_West_to_East:\n",
    "     #print (values)\n",
    "     listing.append([values, 'East'])\n",
    " #print(listing)\n",
    " data = pd.DataFrame(listing,columns = ['Values','Moved_to'])\n",
    " \n",
    " for values in Move_East_to_West:\n",
    "     #print (values)\n",
    "     listing.append([values,'West'])\n",
    " data = pd.DataFrame(listing,columns = ['Values','Moved_to'])\n",
    " target_file = str('C:\\\\\\\\Users\\\\\\\\goravg\\\\\\\\Downloads\\\\\\\\Output\\\\\\\\') + str(file1) + '-TO-' + str(file2) + '.csv'\n",
    " data.to_csv(target_file, index = False)\n",
    "\n",
    "dumplist('76-77','77-78')\n"
   ]
  },
  {
   "cell_type": "code",
   "execution_count": 30,
   "metadata": {},
   "outputs": [],
   "source": [
    "dumplist('76-77','77-78')\n",
    "dumplist('77-78','78-79')\n",
    "dumplist('78-79','79-80')\n",
    "dumplist('79-80','80-81')\n",
    "dumplist('80-81','81-82')\n",
    "dumplist('81-82','82-83')\n",
    "dumplist('82-83','83-84')\n",
    "dumplist('83-84','84-85')\n",
    "dumplist('84-85','85-86')\n",
    "dumplist('85-86','86-87')\n",
    "dumplist('86-87','87-88')\n",
    "dumplist('87-88','88-89')\n",
    "dumplist('88-89','89-90')\n",
    "dumplist('89-90','90-91')\n",
    "dumplist('90-91','91-92')\n",
    "dumplist('91-92','92-93')\n",
    "dumplist('92-93','93-94')\n",
    "dumplist('93-94','94-95')\n",
    "dumplist('94-95','95-96')\n",
    "dumplist('95-96','96-97')\n",
    "dumplist('96-97','97-98')\n",
    "dumplist('97-98','98-99')\n",
    "dumplist('98-99','99-00')\n",
    "dumplist('99-00','00-01')\n",
    "dumplist('00-01','01-02')\n",
    "dumplist('01-02','02-03')\n",
    "dumplist('02-03','03-04')\n",
    "dumplist('03-04','04-05')\n",
    "dumplist('04-05','05-06')\n",
    "dumplist('05-06','06-07')\n",
    "dumplist('06-07','07-08')\n",
    "dumplist('07-08','08-09')\n",
    "dumplist('08-09','09-10')\n",
    "dumplist('09-10','10-11')\n",
    "dumplist('10-11','11-12')\n",
    "dumplist('11-12','12-13')\n",
    "dumplist('12-13','13-14')\n",
    "dumplist('13-14','14-15')\n",
    "dumplist('14-15','15-16')\n",
    "dumplist('15-16','16-17')\n",
    "dumplist('16-17','17-18')\n",
    "\n"
   ]
  },
  {
   "cell_type": "code",
   "execution_count": null,
   "metadata": {},
   "outputs": [],
   "source": []
  },
  {
   "cell_type": "code",
   "execution_count": 3,
   "metadata": {},
   "outputs": [
    {
     "ename": "NameError",
     "evalue": "name 'df' is not defined",
     "output_type": "error",
     "traceback": [
      "\u001b[1;31m---------------------------------------------------------------------------\u001b[0m",
      "\u001b[1;31mNameError\u001b[0m                                 Traceback (most recent call last)",
      "\u001b[1;32m<ipython-input-3-9d6deb493d51>\u001b[0m in \u001b[0;36m<module>\u001b[1;34m()\u001b[0m\n\u001b[1;32m----> 1\u001b[1;33m \u001b[0mdf\u001b[0m\u001b[1;33m.\u001b[0m\u001b[0mto_csv\u001b[0m\u001b[1;33m(\u001b[0m\u001b[1;34m'C:\\\\Users\\\\Giancarlo\\\\Desktop\\\\Intro to Data Science Player Ranks\\\\Player Ranks with Conferences\\\\03-04_Player_Conferences.csv'\u001b[0m\u001b[1;33m,\u001b[0m \u001b[0mindex\u001b[0m \u001b[1;33m=\u001b[0m \u001b[1;32mFalse\u001b[0m\u001b[1;33m)\u001b[0m\u001b[1;33m\u001b[0m\u001b[0m\n\u001b[0m",
      "\u001b[1;31mNameError\u001b[0m: name 'df' is not defined"
     ]
    }
   ],
   "source": [
    "df.to_csv('C:\\\\Users\\\\Giancarlo\\\\Desktop\\\\Intro to Data Science Player Ranks\\\\Player Ranks with Conferences\\\\03-04_Player_Conferences.csv', index = False)"
   ]
  },
  {
   "cell_type": "code",
   "execution_count": null,
   "metadata": {},
   "outputs": [],
   "source": []
  }
 ],
 "metadata": {
  "kernelspec": {
   "display_name": "Python 3",
   "language": "python",
   "name": "python3"
  },
  "language_info": {
   "codemirror_mode": {
    "name": "ipython",
    "version": 3
   },
   "file_extension": ".py",
   "mimetype": "text/x-python",
   "name": "python",
   "nbconvert_exporter": "python",
   "pygments_lexer": "ipython3",
   "version": "3.7.0"
  }
 },
 "nbformat": 4,
 "nbformat_minor": 2
}
