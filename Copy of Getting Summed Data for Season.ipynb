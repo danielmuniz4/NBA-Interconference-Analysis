{
 "cells": [
  {
   "cell_type": "code",
   "execution_count": 1,
   "metadata": {},
   "outputs": [],
   "source": [
    "import pandas as pd\n",
    "import statsmodels.api as sm\n",
    "import matplotlib.pyplot as plt\n",
    "import numpy as np"
   ]
  },
  {
   "cell_type": "code",
   "execution_count": 4,
   "metadata": {},
   "outputs": [],
   "source": [
    "stats_data = pd.read_csv(\"00-01_Player_Conferences.csv\")\n",
    "picked_stats = pd.DataFrame(stats_data, columns = ['Player', 'PER', \n",
    "                                                    'WS', 'OBPM', 'DBPM',\n",
    "                                                  'BPM', 'VORP'])\n",
    "\n",
    "players=pd.read_csv(\"00-01-TO-01-02.csv\")\n",
    "\n",
    "\n",
    "players.rename(columns={'Values': 'Player'}, inplace=True)\n",
    "\n",
    "\n",
    "third=pd.merge(picked_stats, players, on='Player', how='inner')\n",
    "\n",
    "\n",
    "third['PER']=np.subtract(third[\"PER\"], 15)\n",
    "\n",
    "\n",
    "conf_names=['West', 'East']\n",
    "DataFrameDict = {elem : pd.DataFrame for elem in conf_names}\n",
    "\n",
    "for key in DataFrameDict.keys():\n",
    "    DataFrameDict[key] = third[:][third.Moved_to == key]\n",
    "west=DataFrameDict['West']\n",
    "east=DataFrameDict['East']\n",
    "\n",
    "sum_data = third.pivot_table(values=['PER', 'WS', 'OBPM', 'DBPM', 'BPM', 'VORP'], index=['Moved_to'],\n",
    "                           aggfunc='sum')\n"
   ]
  },
  {
   "cell_type": "code",
   "execution_count": 5,
   "metadata": {},
   "outputs": [
    {
     "data": {
      "text/html": [
       "<div>\n",
       "<style scoped>\n",
       "    .dataframe tbody tr th:only-of-type {\n",
       "        vertical-align: middle;\n",
       "    }\n",
       "\n",
       "    .dataframe tbody tr th {\n",
       "        vertical-align: top;\n",
       "    }\n",
       "\n",
       "    .dataframe thead th {\n",
       "        text-align: right;\n",
       "    }\n",
       "</style>\n",
       "<table border=\"1\" class=\"dataframe\">\n",
       "  <thead>\n",
       "    <tr style=\"text-align: right;\">\n",
       "      <th></th>\n",
       "      <th>BPM</th>\n",
       "      <th>DBPM</th>\n",
       "      <th>OBPM</th>\n",
       "      <th>PER</th>\n",
       "      <th>VORP</th>\n",
       "      <th>WS</th>\n",
       "    </tr>\n",
       "    <tr>\n",
       "      <th>Moved_to</th>\n",
       "      <th></th>\n",
       "      <th></th>\n",
       "      <th></th>\n",
       "      <th></th>\n",
       "      <th></th>\n",
       "      <th></th>\n",
       "    </tr>\n",
       "  </thead>\n",
       "  <tbody>\n",
       "    <tr>\n",
       "      <th>East</th>\n",
       "      <td>-69.8</td>\n",
       "      <td>-21.3</td>\n",
       "      <td>-48.3</td>\n",
       "      <td>-94.4</td>\n",
       "      <td>17.9</td>\n",
       "      <td>96.4</td>\n",
       "    </tr>\n",
       "    <tr>\n",
       "      <th>West</th>\n",
       "      <td>-178.5</td>\n",
       "      <td>-39.3</td>\n",
       "      <td>-139.5</td>\n",
       "      <td>-204.8</td>\n",
       "      <td>15.3</td>\n",
       "      <td>86.1</td>\n",
       "    </tr>\n",
       "  </tbody>\n",
       "</table>\n",
       "</div>"
      ],
      "text/plain": [
       "            BPM  DBPM   OBPM    PER  VORP    WS\n",
       "Moved_to                                       \n",
       "East      -69.8 -21.3  -48.3  -94.4  17.9  96.4\n",
       "West     -178.5 -39.3 -139.5 -204.8  15.3  86.1"
      ]
     },
     "execution_count": 5,
     "metadata": {},
     "output_type": "execute_result"
    }
   ],
   "source": [
    "sum_data"
   ]
  },
  {
   "cell_type": "code",
   "execution_count": null,
   "metadata": {},
   "outputs": [],
   "source": []
  }
 ],
 "metadata": {
  "kernelspec": {
   "display_name": "Python 3",
   "language": "python",
   "name": "python3"
  },
  "language_info": {
   "codemirror_mode": {
    "name": "ipython",
    "version": 3
   },
   "file_extension": ".py",
   "mimetype": "text/x-python",
   "name": "python",
   "nbconvert_exporter": "python",
   "pygments_lexer": "ipython3",
   "version": "3.7.0"
  }
 },
 "nbformat": 4,
 "nbformat_minor": 2
}
